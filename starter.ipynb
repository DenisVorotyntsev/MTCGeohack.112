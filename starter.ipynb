{
 "cells": [
  {
   "cell_type": "markdown",
   "metadata": {},
   "source": [
    "# МТС Geohack.112"
   ]
  },
  {
   "cell_type": "code",
   "execution_count": 1,
   "metadata": {},
   "outputs": [],
   "source": [
    "import pandas as pd \n",
    "import numpy as np \n",
    "from matplotlib import pyplot as plt \n",
    "import collections \n",
    "from sklearn.neighbors import NearestNeighbors, KNeighborsRegressor, KNeighborsClassifier\n",
    "from sklearn.preprocessing import LabelEncoder\n",
    "from sklearn.model_selection import GroupKFold, cross_val_predict\n",
    "import lightgbm as lgb\n",
    "from scipy.stats import kendalltau\n",
    "import warnings"
   ]
  },
  {
   "cell_type": "code",
   "execution_count": 2,
   "metadata": {},
   "outputs": [],
   "source": [
    "df_zones = pd.read_csv('./data/zones.csv', index_col='zone_id')\n",
    "df_zones.head()\n",
    "tagged_nodes = pd.read_pickle('./osm/tagged_nodes.pickle')"
   ]
  },
  {
   "cell_type": "markdown",
   "metadata": {},
   "source": [
    "# Дополнительная дата"
   ]
  },
  {
   "cell_type": "markdown",
   "metadata": {},
   "source": [
    "В данном разделе представлена дополнительная дата, которую я взял из открытых источников."
   ]
  },
  {
   "cell_type": "markdown",
   "metadata": {},
   "source": [
    "## Статистика по пожарам"
   ]
  },
  {
   "cell_type": "markdown",
   "metadata": {},
   "source": [
    "Статистику по пожарам брал с сайта [МЧС России](https://moscow.mchs.ru/document/1316565) по Москве. Приведенные далее данные можно найти в \"Анализ обстановки с пожарами и их последствиями за 2017 год\" (страницаы 34-35) Я перевел данные в доступный вид при помощи [pdftables](https://pdftables.com/). \n",
    "\n",
    "Колонки представляют собой статистику по количеству пожаров в 2017 и 2016 году ($fiers2017$, $fiers2016$), количество смертей от пожаров ($deaths$), травм ($injuries$), спасённых человек ($saved$), материальный ущерб ($damage$), количество загораний ($zagoraniya$), удельные значения на 100 тыс человек, население ($population$). $lat_c$, $lon_c$ - широта и долгота середины района (субъективная оценка). \n",
    "\n",
    "В папке есть еще файл \"fiers_AO\" - статистики по административным округам. Сумма по районам АО отличается от со статистики АО."
   ]
  },
  {
   "cell_type": "code",
   "execution_count": 3,
   "metadata": {},
   "outputs": [
    {
     "name": "stdout",
     "output_type": "stream",
     "text": [
      "Shape: (146, 26)\n"
     ]
    },
    {
     "data": {
      "text/html": [
       "<div>\n",
       "<style scoped>\n",
       "    .dataframe tbody tr th:only-of-type {\n",
       "        vertical-align: middle;\n",
       "    }\n",
       "\n",
       "    .dataframe tbody tr th {\n",
       "        vertical-align: top;\n",
       "    }\n",
       "\n",
       "    .dataframe thead th {\n",
       "        text-align: right;\n",
       "    }\n",
       "</style>\n",
       "<table border=\"1\" class=\"dataframe\">\n",
       "  <thead>\n",
       "    <tr style=\"text-align: right;\">\n",
       "      <th></th>\n",
       "      <th>AO</th>\n",
       "      <th>area</th>\n",
       "      <th>lat_c</th>\n",
       "      <th>lon_c</th>\n",
       "      <th>fiers2017</th>\n",
       "      <th>fiers2016</th>\n",
       "      <th>deaths2017</th>\n",
       "      <th>deaths2016</th>\n",
       "      <th>injuries2017</th>\n",
       "      <th>injuries2016</th>\n",
       "      <th>...</th>\n",
       "      <th>zagoraniya2017</th>\n",
       "      <th>zagoraniya2016</th>\n",
       "      <th>fiers2017_100k</th>\n",
       "      <th>fiers2016_100k</th>\n",
       "      <th>deaths2017_100k</th>\n",
       "      <th>deaths2016_100k</th>\n",
       "      <th>injuries2017_100k</th>\n",
       "      <th>injuries2016_100k</th>\n",
       "      <th>population2017</th>\n",
       "      <th>population2016</th>\n",
       "    </tr>\n",
       "  </thead>\n",
       "  <tbody>\n",
       "    <tr>\n",
       "      <th>0</th>\n",
       "      <td>Центральный АО</td>\n",
       "      <td>Арбат</td>\n",
       "      <td>55.751066</td>\n",
       "      <td>37.574420</td>\n",
       "      <td>36.0</td>\n",
       "      <td>35.0</td>\n",
       "      <td>1.0</td>\n",
       "      <td>NaN</td>\n",
       "      <td>3.0</td>\n",
       "      <td>NaN</td>\n",
       "      <td>...</td>\n",
       "      <td>3.0</td>\n",
       "      <td>2.0</td>\n",
       "      <td>104.66</td>\n",
       "      <td>102.90</td>\n",
       "      <td>8.72</td>\n",
       "      <td>NaN</td>\n",
       "      <td>197.29</td>\n",
       "      <td>5.86</td>\n",
       "      <td>34396.0</td>\n",
       "      <td>34012.0</td>\n",
       "    </tr>\n",
       "    <tr>\n",
       "      <th>1</th>\n",
       "      <td>Центральный АО</td>\n",
       "      <td>Басманный</td>\n",
       "      <td>55.766543</td>\n",
       "      <td>37.635249</td>\n",
       "      <td>80.0</td>\n",
       "      <td>83.0</td>\n",
       "      <td>2.0</td>\n",
       "      <td>1.0</td>\n",
       "      <td>7.0</td>\n",
       "      <td>9.0</td>\n",
       "      <td>...</td>\n",
       "      <td>36.0</td>\n",
       "      <td>28.0</td>\n",
       "      <td>72.67</td>\n",
       "      <td>75.43</td>\n",
       "      <td>6.36</td>\n",
       "      <td>8.18</td>\n",
       "      <td>0.57</td>\n",
       "      <td>7.68</td>\n",
       "      <td>110083.0</td>\n",
       "      <td>110042.0</td>\n",
       "    </tr>\n",
       "    <tr>\n",
       "      <th>2</th>\n",
       "      <td>Центральный АО</td>\n",
       "      <td>Замоскворечье</td>\n",
       "      <td>55.734974</td>\n",
       "      <td>37.616885</td>\n",
       "      <td>35.0</td>\n",
       "      <td>74.0</td>\n",
       "      <td>NaN</td>\n",
       "      <td>NaN</td>\n",
       "      <td>1.0</td>\n",
       "      <td>1.0</td>\n",
       "      <td>...</td>\n",
       "      <td>NaN</td>\n",
       "      <td>1.0</td>\n",
       "      <td>60.48</td>\n",
       "      <td>128.20</td>\n",
       "      <td>1.73</td>\n",
       "      <td>1.73</td>\n",
       "      <td>112.34</td>\n",
       "      <td>175.31</td>\n",
       "      <td>57871.0</td>\n",
       "      <td>57722.0</td>\n",
       "    </tr>\n",
       "    <tr>\n",
       "      <th>3</th>\n",
       "      <td>Центральный АО</td>\n",
       "      <td>Красносельский</td>\n",
       "      <td>55.776518</td>\n",
       "      <td>37.640349</td>\n",
       "      <td>36.0</td>\n",
       "      <td>34.0</td>\n",
       "      <td>NaN</td>\n",
       "      <td>NaN</td>\n",
       "      <td>3.0</td>\n",
       "      <td>3.0</td>\n",
       "      <td>...</td>\n",
       "      <td>14.0</td>\n",
       "      <td>11.0</td>\n",
       "      <td>74.27</td>\n",
       "      <td>70.36</td>\n",
       "      <td>6.19</td>\n",
       "      <td>6.21</td>\n",
       "      <td>NaN</td>\n",
       "      <td>10.66</td>\n",
       "      <td>48474.0</td>\n",
       "      <td>48324.0</td>\n",
       "    </tr>\n",
       "    <tr>\n",
       "      <th>4</th>\n",
       "      <td>Центральный АО</td>\n",
       "      <td>Мещанский</td>\n",
       "      <td>55.778231</td>\n",
       "      <td>37.611418</td>\n",
       "      <td>23.0</td>\n",
       "      <td>40.0</td>\n",
       "      <td>NaN</td>\n",
       "      <td>NaN</td>\n",
       "      <td>1.0</td>\n",
       "      <td>5.0</td>\n",
       "      <td>...</td>\n",
       "      <td>15.0</td>\n",
       "      <td>14.0</td>\n",
       "      <td>38.26</td>\n",
       "      <td>66.65</td>\n",
       "      <td>1.66</td>\n",
       "      <td>8.33</td>\n",
       "      <td>0.31</td>\n",
       "      <td>3.43</td>\n",
       "      <td>60121.0</td>\n",
       "      <td>60014.0</td>\n",
       "    </tr>\n",
       "  </tbody>\n",
       "</table>\n",
       "<p>5 rows × 26 columns</p>\n",
       "</div>"
      ],
      "text/plain": [
       "               AO            area      lat_c      lon_c  fiers2017  fiers2016  \\\n",
       "0  Центральный АО           Арбат  55.751066  37.574420       36.0       35.0   \n",
       "1  Центральный АО       Басманный  55.766543  37.635249       80.0       83.0   \n",
       "2  Центральный АО   Замоскворечье  55.734974  37.616885       35.0       74.0   \n",
       "3  Центральный АО  Красносельский  55.776518  37.640349       36.0       34.0   \n",
       "4  Центральный АО       Мещанский  55.778231  37.611418       23.0       40.0   \n",
       "\n",
       "   deaths2017  deaths2016  injuries2017  injuries2016       ...        \\\n",
       "0         1.0         NaN           3.0           NaN       ...         \n",
       "1         2.0         1.0           7.0           9.0       ...         \n",
       "2         NaN         NaN           1.0           1.0       ...         \n",
       "3         NaN         NaN           3.0           3.0       ...         \n",
       "4         NaN         NaN           1.0           5.0       ...         \n",
       "\n",
       "   zagoraniya2017  zagoraniya2016  fiers2017_100k  fiers2016_100k  \\\n",
       "0             3.0             2.0          104.66          102.90   \n",
       "1            36.0            28.0           72.67           75.43   \n",
       "2             NaN             1.0           60.48          128.20   \n",
       "3            14.0            11.0           74.27           70.36   \n",
       "4            15.0            14.0           38.26           66.65   \n",
       "\n",
       "   deaths2017_100k  deaths2016_100k  injuries2017_100k  injuries2016_100k  \\\n",
       "0             8.72              NaN             197.29               5.86   \n",
       "1             6.36             8.18               0.57               7.68   \n",
       "2             1.73             1.73             112.34             175.31   \n",
       "3             6.19             6.21                NaN              10.66   \n",
       "4             1.66             8.33               0.31               3.43   \n",
       "\n",
       "   population2017  population2016  \n",
       "0         34396.0         34012.0  \n",
       "1        110083.0        110042.0  \n",
       "2         57871.0         57722.0  \n",
       "3         48474.0         48324.0  \n",
       "4         60121.0         60014.0  \n",
       "\n",
       "[5 rows x 26 columns]"
      ]
     },
     "execution_count": 3,
     "metadata": {},
     "output_type": "execute_result"
    }
   ],
   "source": [
    "fiers = pd.read_csv('./additional_data/fiers_area.csv')\n",
    "print('Shape:', fiers.shape)\n",
    "fiers.head()"
   ]
  },
  {
   "cell_type": "markdown",
   "metadata": {},
   "source": [
    "## Статистика ДТП"
   ]
  },
  {
   "cell_type": "markdown",
   "metadata": {},
   "source": [
    "Вся статистика по ДТП в Москве взята с сайта [Госавтоинспекции](http://stat.gibdd.ru/) (вкладка \"Выгрузка показателей БДД\" -> \"Карточки ДТП\" -> \"Дорожно-транспортные происшествия\"). $lat_c$, $lon_c$ - широта и долгота середины района (субъективная оценка). "
   ]
  },
  {
   "cell_type": "code",
   "execution_count": 4,
   "metadata": {},
   "outputs": [
    {
     "name": "stdout",
     "output_type": "stream",
     "text": [
      "Shape: (125, 7)\n"
     ]
    },
    {
     "data": {
      "text/html": [
       "<div>\n",
       "<style scoped>\n",
       "    .dataframe tbody tr th:only-of-type {\n",
       "        vertical-align: middle;\n",
       "    }\n",
       "\n",
       "    .dataframe tbody tr th {\n",
       "        vertical-align: top;\n",
       "    }\n",
       "\n",
       "    .dataframe thead th {\n",
       "        text-align: right;\n",
       "    }\n",
       "</style>\n",
       "<table border=\"1\" class=\"dataframe\">\n",
       "  <thead>\n",
       "    <tr style=\"text-align: right;\">\n",
       "      <th></th>\n",
       "      <th>area</th>\n",
       "      <th>lat_c</th>\n",
       "      <th>lon_c</th>\n",
       "      <th>Погибло</th>\n",
       "      <th>Ранено</th>\n",
       "      <th>Кол-во ТС</th>\n",
       "      <th>Кол-во участников</th>\n",
       "    </tr>\n",
       "  </thead>\n",
       "  <tbody>\n",
       "    <tr>\n",
       "      <th>0</th>\n",
       "      <td>Алексеевский</td>\n",
       "      <td>55.811254</td>\n",
       "      <td>37.617419</td>\n",
       "      <td>0.0</td>\n",
       "      <td>15.0</td>\n",
       "      <td>25.0</td>\n",
       "      <td>35.0</td>\n",
       "    </tr>\n",
       "    <tr>\n",
       "      <th>1</th>\n",
       "      <td>Алтуфьевский</td>\n",
       "      <td>55.879000</td>\n",
       "      <td>37.569239</td>\n",
       "      <td>0.0</td>\n",
       "      <td>10.0</td>\n",
       "      <td>15.0</td>\n",
       "      <td>20.0</td>\n",
       "    </tr>\n",
       "    <tr>\n",
       "      <th>2</th>\n",
       "      <td>Арбат</td>\n",
       "      <td>55.751066</td>\n",
       "      <td>37.574420</td>\n",
       "      <td>10.0</td>\n",
       "      <td>20.0</td>\n",
       "      <td>35.0</td>\n",
       "      <td>60.0</td>\n",
       "    </tr>\n",
       "    <tr>\n",
       "      <th>3</th>\n",
       "      <td>Аэропорт</td>\n",
       "      <td>55.800686</td>\n",
       "      <td>37.524482</td>\n",
       "      <td>0.0</td>\n",
       "      <td>30.0</td>\n",
       "      <td>35.0</td>\n",
       "      <td>60.0</td>\n",
       "    </tr>\n",
       "    <tr>\n",
       "      <th>4</th>\n",
       "      <td>Бабушкинский</td>\n",
       "      <td>55.866964</td>\n",
       "      <td>37.644678</td>\n",
       "      <td>5.0</td>\n",
       "      <td>35.0</td>\n",
       "      <td>75.0</td>\n",
       "      <td>95.0</td>\n",
       "    </tr>\n",
       "  </tbody>\n",
       "</table>\n",
       "</div>"
      ],
      "text/plain": [
       "           area      lat_c      lon_c  Погибло  Ранено  Кол-во ТС  \\\n",
       "0  Алексеевский  55.811254  37.617419      0.0    15.0       25.0   \n",
       "1  Алтуфьевский  55.879000  37.569239      0.0    10.0       15.0   \n",
       "2         Арбат  55.751066  37.574420     10.0    20.0       35.0   \n",
       "3      Аэропорт  55.800686  37.524482      0.0    30.0       35.0   \n",
       "4  Бабушкинский  55.866964  37.644678      5.0    35.0       75.0   \n",
       "\n",
       "   Кол-во участников  \n",
       "0               35.0  \n",
       "1               20.0  \n",
       "2               60.0  \n",
       "3               60.0  \n",
       "4               95.0  "
      ]
     },
     "execution_count": 4,
     "metadata": {},
     "output_type": "execute_result"
    }
   ],
   "source": [
    "accidents = pd.read_csv('./additional_data/accidents.csv')\n",
    "print('Shape:', accidents.shape)\n",
    "accidents.head()"
   ]
  },
  {
   "cell_type": "markdown",
   "metadata": {},
   "source": [
    "## Статистика по преступлениям "
   ]
  },
  {
   "cell_type": "markdown",
   "metadata": {},
   "source": [
    "Статистика взята с [сайта прокуратуры Москвы](http://www.mosproc.ru/statistics/). Период - за январь-декабрь 2017. $lat_c$, $lon_c$ - широта и долгота середины административного округа (субъективная оценка). $crimes$ - количества преступления, совершенные женщинами и мужчинами соответственно. "
   ]
  },
  {
   "cell_type": "code",
   "execution_count": 5,
   "metadata": {},
   "outputs": [
    {
     "name": "stdout",
     "output_type": "stream",
     "text": [
      "Shape: (11, 5)\n"
     ]
    },
    {
     "data": {
      "text/html": [
       "<div>\n",
       "<style scoped>\n",
       "    .dataframe tbody tr th:only-of-type {\n",
       "        vertical-align: middle;\n",
       "    }\n",
       "\n",
       "    .dataframe tbody tr th {\n",
       "        vertical-align: top;\n",
       "    }\n",
       "\n",
       "    .dataframe thead th {\n",
       "        text-align: right;\n",
       "    }\n",
       "</style>\n",
       "<table border=\"1\" class=\"dataframe\">\n",
       "  <thead>\n",
       "    <tr style=\"text-align: right;\">\n",
       "      <th></th>\n",
       "      <th>AO</th>\n",
       "      <th>lat_c</th>\n",
       "      <th>lon_c</th>\n",
       "      <th>crimes_woman</th>\n",
       "      <th>crimes_man</th>\n",
       "    </tr>\n",
       "  </thead>\n",
       "  <tbody>\n",
       "    <tr>\n",
       "      <th>0</th>\n",
       "      <td>Центральный АО</td>\n",
       "      <td>55.7568</td>\n",
       "      <td>37.6191</td>\n",
       "      <td>868.0</td>\n",
       "      <td>4050.0</td>\n",
       "    </tr>\n",
       "    <tr>\n",
       "      <th>1</th>\n",
       "      <td>Северо-Восточный АО</td>\n",
       "      <td>55.8574</td>\n",
       "      <td>37.6230</td>\n",
       "      <td>623.0</td>\n",
       "      <td>3293.0</td>\n",
       "    </tr>\n",
       "    <tr>\n",
       "      <th>2</th>\n",
       "      <td>Восточный АО</td>\n",
       "      <td>55.7922</td>\n",
       "      <td>37.7871</td>\n",
       "      <td>970.0</td>\n",
       "      <td>4571.0</td>\n",
       "    </tr>\n",
       "    <tr>\n",
       "      <th>3</th>\n",
       "      <td>Юго-Восточный АО</td>\n",
       "      <td>55.6929</td>\n",
       "      <td>37.7693</td>\n",
       "      <td>597.0</td>\n",
       "      <td>3411.0</td>\n",
       "    </tr>\n",
       "    <tr>\n",
       "      <th>4</th>\n",
       "      <td>Южный АО</td>\n",
       "      <td>55.6383</td>\n",
       "      <td>37.6553</td>\n",
       "      <td>813.0</td>\n",
       "      <td>3595.0</td>\n",
       "    </tr>\n",
       "  </tbody>\n",
       "</table>\n",
       "</div>"
      ],
      "text/plain": [
       "                    AO    lat_c    lon_c  crimes_woman  crimes_man\n",
       "0       Центральный АО  55.7568  37.6191         868.0      4050.0\n",
       "1  Северо-Восточный АО  55.8574  37.6230         623.0      3293.0\n",
       "2         Восточный АО  55.7922  37.7871         970.0      4571.0\n",
       "3     Юго-Восточный АО  55.6929  37.7693         597.0      3411.0\n",
       "4             Южный АО  55.6383  37.6553         813.0      3595.0"
      ]
     },
     "execution_count": 5,
     "metadata": {},
     "output_type": "execute_result"
    }
   ],
   "source": [
    "crimes = pd.read_csv('./additional_data/crimes.csv')\n",
    "print('Shape:', crimes.shape)\n",
    "crimes.head()"
   ]
  },
  {
   "cell_type": "code",
   "execution_count": 6,
   "metadata": {},
   "outputs": [],
   "source": [
    "# введем дополнительные фичи - общее количество преступлений и удельные показатели преступности \n",
    "population_AO_2017 = fiers[['AO','population2017']].groupby('AO').agg('sum').reset_index()\n",
    "crimes = pd.merge(crimes, population_AO_2017, how='left', on='AO')\n",
    "crimes['crimes_tot'] = crimes['crimes_man'] + crimes['crimes_woman']\n",
    "crimes['crimes_woman_spec'] = crimes['crimes_woman'] / crimes['population2017']\n",
    "crimes['crimes_man_spec'] = crimes['crimes_man'] / crimes['population2017']\n",
    "crimes['crimes_tot_spec'] = crimes['crimes_tot'] / crimes['population2017']"
   ]
  },
  {
   "cell_type": "code",
   "execution_count": 7,
   "metadata": {},
   "outputs": [
    {
     "data": {
      "text/html": [
       "<div>\n",
       "<style scoped>\n",
       "    .dataframe tbody tr th:only-of-type {\n",
       "        vertical-align: middle;\n",
       "    }\n",
       "\n",
       "    .dataframe tbody tr th {\n",
       "        vertical-align: top;\n",
       "    }\n",
       "\n",
       "    .dataframe thead th {\n",
       "        text-align: right;\n",
       "    }\n",
       "</style>\n",
       "<table border=\"1\" class=\"dataframe\">\n",
       "  <thead>\n",
       "    <tr style=\"text-align: right;\">\n",
       "      <th></th>\n",
       "      <th>AO</th>\n",
       "      <th>lat_c</th>\n",
       "      <th>lon_c</th>\n",
       "      <th>crimes_woman</th>\n",
       "      <th>crimes_man</th>\n",
       "      <th>population2017</th>\n",
       "      <th>crimes_tot</th>\n",
       "      <th>crimes_woman_spec</th>\n",
       "      <th>crimes_man_spec</th>\n",
       "      <th>crimes_tot_spec</th>\n",
       "    </tr>\n",
       "  </thead>\n",
       "  <tbody>\n",
       "    <tr>\n",
       "      <th>0</th>\n",
       "      <td>Центральный АО</td>\n",
       "      <td>55.7568</td>\n",
       "      <td>37.6191</td>\n",
       "      <td>868.0</td>\n",
       "      <td>4050.0</td>\n",
       "      <td>769630.0</td>\n",
       "      <td>4918.0</td>\n",
       "      <td>0.001128</td>\n",
       "      <td>0.005262</td>\n",
       "      <td>0.006390</td>\n",
       "    </tr>\n",
       "    <tr>\n",
       "      <th>1</th>\n",
       "      <td>Северо-Восточный АО</td>\n",
       "      <td>55.8574</td>\n",
       "      <td>37.6230</td>\n",
       "      <td>623.0</td>\n",
       "      <td>3293.0</td>\n",
       "      <td>1415283.0</td>\n",
       "      <td>3916.0</td>\n",
       "      <td>0.000440</td>\n",
       "      <td>0.002327</td>\n",
       "      <td>0.002767</td>\n",
       "    </tr>\n",
       "    <tr>\n",
       "      <th>2</th>\n",
       "      <td>Восточный АО</td>\n",
       "      <td>55.7922</td>\n",
       "      <td>37.7871</td>\n",
       "      <td>970.0</td>\n",
       "      <td>4571.0</td>\n",
       "      <td>1507198.0</td>\n",
       "      <td>5541.0</td>\n",
       "      <td>0.000644</td>\n",
       "      <td>0.003033</td>\n",
       "      <td>0.003676</td>\n",
       "    </tr>\n",
       "    <tr>\n",
       "      <th>3</th>\n",
       "      <td>Юго-Восточный АО</td>\n",
       "      <td>55.6929</td>\n",
       "      <td>37.7693</td>\n",
       "      <td>597.0</td>\n",
       "      <td>3411.0</td>\n",
       "      <td>1385385.0</td>\n",
       "      <td>4008.0</td>\n",
       "      <td>0.000431</td>\n",
       "      <td>0.002462</td>\n",
       "      <td>0.002893</td>\n",
       "    </tr>\n",
       "    <tr>\n",
       "      <th>4</th>\n",
       "      <td>Южный АО</td>\n",
       "      <td>55.6383</td>\n",
       "      <td>37.6553</td>\n",
       "      <td>813.0</td>\n",
       "      <td>3595.0</td>\n",
       "      <td>1624339.0</td>\n",
       "      <td>4408.0</td>\n",
       "      <td>0.000501</td>\n",
       "      <td>0.002213</td>\n",
       "      <td>0.002714</td>\n",
       "    </tr>\n",
       "  </tbody>\n",
       "</table>\n",
       "</div>"
      ],
      "text/plain": [
       "                    AO    lat_c    lon_c  crimes_woman  crimes_man  \\\n",
       "0       Центральный АО  55.7568  37.6191         868.0      4050.0   \n",
       "1  Северо-Восточный АО  55.8574  37.6230         623.0      3293.0   \n",
       "2         Восточный АО  55.7922  37.7871         970.0      4571.0   \n",
       "3     Юго-Восточный АО  55.6929  37.7693         597.0      3411.0   \n",
       "4             Южный АО  55.6383  37.6553         813.0      3595.0   \n",
       "\n",
       "   population2017  crimes_tot  crimes_woman_spec  crimes_man_spec  \\\n",
       "0        769630.0      4918.0           0.001128         0.005262   \n",
       "1       1415283.0      3916.0           0.000440         0.002327   \n",
       "2       1507198.0      5541.0           0.000644         0.003033   \n",
       "3       1385385.0      4008.0           0.000431         0.002462   \n",
       "4       1624339.0      4408.0           0.000501         0.002213   \n",
       "\n",
       "   crimes_tot_spec  \n",
       "0         0.006390  \n",
       "1         0.002767  \n",
       "2         0.003676  \n",
       "3         0.002893  \n",
       "4         0.002714  "
      ]
     },
     "execution_count": 7,
     "metadata": {},
     "output_type": "execute_result"
    }
   ],
   "source": [
    "crimes.head()"
   ]
  },
  {
   "cell_type": "markdown",
   "metadata": {},
   "source": [
    "# Разбираемся с OpenStreetMap "
   ]
  },
  {
   "cell_type": "code",
   "execution_count": 8,
   "metadata": {},
   "outputs": [],
   "source": [
    "# лист всех тагов \n",
    "osm_tags = []\n",
    "for i in range(len(tagged_nodes)):\n",
    "    if (len(tagged_nodes[i].tags)>0):\n",
    "        for j in tagged_nodes[i].tags:\n",
    "            osm_tags.append(j)\n",
    "tags, count = np.unique(osm_tags,return_counts=True)\n",
    "\n",
    "tags_count = pd.DataFrame({'tag':tags, \n",
    "                           'count':count}).sort_values(by='count',ascending=False).reset_index(drop=True)"
   ]
  },
  {
   "cell_type": "markdown",
   "metadata": {},
   "source": [
    "В датасете есть около 1,6к различных тэгов, причем в них очень много мусора - тэгов которые встречаются реже 10 раз. Можно попробовать работать только с теми, которые встречаются чаще некого $threshold$, наделать статистик и фич и скормить бустам - деревья сами разберутся (warring: без feature selection - это путь в никуда). \n",
    "\n",
    "Мы пойдем по другому пути. Вручную я отобрал несколько тэгов которые могут оказывать влияние на целевую переменную. "
   ]
  },
  {
   "cell_type": "code",
   "execution_count": 9,
   "metadata": {},
   "outputs": [
    {
     "name": "stdout",
     "output_type": "stream",
     "text": [
      "Unique tags: 1588\n"
     ]
    },
    {
     "data": {
      "image/png": "[encoded data removed]",
      "text/plain": [
       "<Figure size 432x288 with 1 Axes>"
      ]
     },
     "metadata": {},
     "output_type": "display_data"
    }
   ],
   "source": [
    "print('Unique tags:', tags_count.shape[0])\n",
    "plt.hist(np.log1p(tags_count['count']), bins=50)\n",
    "plt.xlabel('Log counts of tag')\n",
    "plt.ylabel('Counts')\n",
    "plt.show()"
   ]
  },
  {
   "cell_type": "code",
   "execution_count": 10,
   "metadata": {
    "scrolled": true
   },
   "outputs": [
    {
     "data": {
      "text/html": [
       "<div>\n",
       "<style scoped>\n",
       "    .dataframe tbody tr th:only-of-type {\n",
       "        vertical-align: middle;\n",
       "    }\n",
       "\n",
       "    .dataframe tbody tr th {\n",
       "        vertical-align: top;\n",
       "    }\n",
       "\n",
       "    .dataframe thead th {\n",
       "        text-align: right;\n",
       "    }\n",
       "</style>\n",
       "<table border=\"1\" class=\"dataframe\">\n",
       "  <thead>\n",
       "    <tr style=\"text-align: right;\">\n",
       "      <th></th>\n",
       "      <th>count</th>\n",
       "      <th>tag</th>\n",
       "    </tr>\n",
       "  </thead>\n",
       "  <tbody>\n",
       "    <tr>\n",
       "      <th>0</th>\n",
       "      <td>78314</td>\n",
       "      <td>name</td>\n",
       "    </tr>\n",
       "    <tr>\n",
       "      <th>1</th>\n",
       "      <td>56678</td>\n",
       "      <td>amenity</td>\n",
       "    </tr>\n",
       "    <tr>\n",
       "      <th>2</th>\n",
       "      <td>49919</td>\n",
       "      <td>highway</td>\n",
       "    </tr>\n",
       "    <tr>\n",
       "      <th>3</th>\n",
       "      <td>39660</td>\n",
       "      <td>entrance</td>\n",
       "    </tr>\n",
       "    <tr>\n",
       "      <th>4</th>\n",
       "      <td>36952</td>\n",
       "      <td>barrier</td>\n",
       "    </tr>\n",
       "  </tbody>\n",
       "</table>\n",
       "</div>"
      ],
      "text/plain": [
       "   count       tag\n",
       "0  78314      name\n",
       "1  56678   amenity\n",
       "2  49919   highway\n",
       "3  39660  entrance\n",
       "4  36952   barrier"
      ]
     },
     "execution_count": 10,
     "metadata": {},
     "output_type": "execute_result"
    }
   ],
   "source": [
    "tags_count.head()"
   ]
  },
  {
   "cell_type": "code",
   "execution_count": 11,
   "metadata": {},
   "outputs": [],
   "source": [
    "# отобранные тэги \n",
    "tags_list = [\n",
    "    'train', 'religion', 'bank', \n",
    "    'danger', 'cafe', 'subway', 'clinic', \n",
    "    'education', 'healthcare'\n",
    "            ]  "
   ]
  },
  {
   "cell_type": "markdown",
   "metadata": {},
   "source": [
    "Забавно, что кто-то отметил кошку на карте. "
   ]
  },
  {
   "cell_type": "code",
   "execution_count": 12,
   "metadata": {},
   "outputs": [
    {
     "data": {
      "text/html": [
       "<div>\n",
       "<style scoped>\n",
       "    .dataframe tbody tr th:only-of-type {\n",
       "        vertical-align: middle;\n",
       "    }\n",
       "\n",
       "    .dataframe tbody tr th {\n",
       "        vertical-align: top;\n",
       "    }\n",
       "\n",
       "    .dataframe thead th {\n",
       "        text-align: right;\n",
       "    }\n",
       "</style>\n",
       "<table border=\"1\" class=\"dataframe\">\n",
       "  <thead>\n",
       "    <tr style=\"text-align: right;\">\n",
       "      <th></th>\n",
       "      <th>count</th>\n",
       "      <th>tag</th>\n",
       "    </tr>\n",
       "  </thead>\n",
       "  <tbody>\n",
       "    <tr>\n",
       "      <th>1147</th>\n",
       "      <td>1</td>\n",
       "      <td>cat</td>\n",
       "    </tr>\n",
       "  </tbody>\n",
       "</table>\n",
       "</div>"
      ],
      "text/plain": [
       "      count  tag\n",
       "1147      1  cat"
      ]
     },
     "execution_count": 12,
     "metadata": {},
     "output_type": "execute_result"
    }
   ],
   "source": [
    "tags_count[tags_count.tag=='cat']"
   ]
  },
  {
   "cell_type": "markdown",
   "metadata": {},
   "source": [
    "## Построение таблицы признаков"
   ]
  },
  {
   "cell_type": "markdown",
   "metadata": {},
   "source": [
    "Воспользуемся [готовым скриптом](https://github.com/datasouls/mts-geohack/blob/master/Geohack112_StarterKit.ipynb) по генерации фич от организаторов. Дополним фичи новыми данными. "
   ]
  },
  {
   "cell_type": "code",
   "execution_count": 13,
   "metadata": {},
   "outputs": [],
   "source": [
    "df_features = collections.OrderedDict([])"
   ]
  },
  {
   "cell_type": "markdown",
   "metadata": {},
   "source": [
    "### Расстояние до Кремля"
   ]
  },
  {
   "cell_type": "code",
   "execution_count": 14,
   "metadata": {},
   "outputs": [],
   "source": [
    "import math\n",
    "\n",
    "kremlin_lat, kremlin_lon = 55.753722, 37.620657\n",
    "\n",
    "def dist_calc(lat1, lon1, lat2, lon2):\n",
    "    R = 6373.0\n",
    "\n",
    "    lat1 = math.radians(lat1)\n",
    "    lon1 = math.radians(lon1)\n",
    "    lat2 = math.radians(lat2)\n",
    "    lon2 = math.radians(lon2)\n",
    "\n",
    "    dlon = lon2 - lon1\n",
    "    dlat = lat2 - lat1\n",
    "\n",
    "    a = math.sin(dlat / 2)**2 + math.cos(lat1) * math.cos(lat2) * math.sin(dlon / 2)**2\n",
    "    c = 2 * math.atan2(math.sqrt(a), math.sqrt(1 - a))\n",
    "\n",
    "    return R * c\n",
    "\n",
    "df_features['distance_to_kremlin'] = df_zones.apply(\n",
    "    lambda row: dist_calc(row.lat_c, row.lon_c, kremlin_lat, kremlin_lon), axis=1)"
   ]
  },
  {
   "cell_type": "markdown",
   "metadata": {},
   "source": [
    "### Статистика по точкам из OSM"
   ]
  },
  {
   "cell_type": "code",
   "execution_count": 15,
   "metadata": {},
   "outputs": [
    {
     "name": "stdout",
     "output_type": "stream",
     "text": [
      "tagged\n",
      "railway\n",
      "shop\n",
      "public_transport\n",
      "train\n",
      "religion\n",
      "bank\n",
      "danger\n",
      "cafe\n",
      "subway\n",
      "clinic\n",
      "education\n",
      "healthcare\n"
     ]
    }
   ],
   "source": [
    "# базовые фичи\n",
    "POINT_FEATURE_FILTERS = [\n",
    "    ('tagged', lambda node: len(node.tags) > 0),\n",
    "    ('railway', lambda node: node.tags.get('railway') == 'station'),\n",
    "    ('shop', lambda node: 'shop' in node.tags),\n",
    "    ('public_transport', lambda node: 'public_transport' in node.tags),\n",
    "]\n",
    "\n",
    "# доп фичи\n",
    "for i in tags_list:\n",
    "    POINT_FEATURE_FILTERS.append((i, lambda node: i in node.tags))\n",
    "\n",
    "# центры квадратов в виде матрицы\n",
    "X_zone_centers = df_zones[['lat_c', 'lon_c']].as_matrix()\n",
    "\n",
    "for prefix, point_filter in POINT_FEATURE_FILTERS:\n",
    "    \n",
    "    print(prefix)\n",
    "    \n",
    "    # берем подмножество точек в соответствии с фильтром\n",
    "    coords = np.array([\n",
    "        [node.lat, node.lon]\n",
    "        for node in tagged_nodes\n",
    "        if point_filter(node)\n",
    "    ])\n",
    "\n",
    "    # строим структуру данных для быстрого поиска точек\n",
    "    neighbors = NearestNeighbors().fit(coords)\n",
    "    \n",
    "    # признак вида \"количество точек в радиусе R от центра квадрата\"\n",
    "    for radius in [0.001, 0.003, 0.005, 0.007, 0.01]:\n",
    "        dists, inds = neighbors.radius_neighbors(X=X_zone_centers, radius=radius)\n",
    "        df_features['{}_points_in_{}'.format(prefix, radius)] = np.array([len(x) for x in inds])\n",
    "\n",
    "    # признак вида \"расстояние до ближайших K точек\"\n",
    "    for n_neighbors in [3, 5, 10, 15, 21]:\n",
    "        dists, inds = neighbors.kneighbors(X=X_zone_centers, n_neighbors=n_neighbors)\n",
    "        df_features['{}_mean_dist_k_{}'.format(prefix, n_neighbors)] = dists.mean(axis=1)\n",
    "        df_features['{}_max_dist_k_{}'.format(prefix, n_neighbors)] = dists.max(axis=1)\n",
    "        df_features['{}_std_dist_k_{}'.format(prefix, n_neighbors)] = dists.std(axis=1)\n",
    "\n",
    "    # признак вида \"расстояние до ближайшей точки\"\n",
    "    df_features['{}_min'.format(prefix)] = dists.min(axis=1)"
   ]
  },
  {
   "cell_type": "code",
   "execution_count": 16,
   "metadata": {},
   "outputs": [
    {
     "data": {
      "text/html": [
       "<div>\n",
       "<style scoped>\n",
       "    .dataframe tbody tr th:only-of-type {\n",
       "        vertical-align: middle;\n",
       "    }\n",
       "\n",
       "    .dataframe tbody tr th {\n",
       "        vertical-align: top;\n",
       "    }\n",
       "\n",
       "    .dataframe thead th {\n",
       "        text-align: right;\n",
       "    }\n",
       "</style>\n",
       "<table border=\"1\" class=\"dataframe\">\n",
       "  <thead>\n",
       "    <tr style=\"text-align: right;\">\n",
       "      <th></th>\n",
       "      <th>zone_id</th>\n",
       "      <th>distance_to_kremlin</th>\n",
       "      <th>tagged_points_in_0.001</th>\n",
       "      <th>tagged_points_in_0.003</th>\n",
       "      <th>tagged_points_in_0.005</th>\n",
       "      <th>tagged_points_in_0.007</th>\n",
       "      <th>tagged_points_in_0.01</th>\n",
       "      <th>tagged_mean_dist_k_3</th>\n",
       "      <th>tagged_max_dist_k_3</th>\n",
       "      <th>tagged_std_dist_k_3</th>\n",
       "      <th>...</th>\n",
       "      <th>healthcare_mean_dist_k_10</th>\n",
       "      <th>healthcare_max_dist_k_10</th>\n",
       "      <th>healthcare_std_dist_k_10</th>\n",
       "      <th>healthcare_mean_dist_k_15</th>\n",
       "      <th>healthcare_max_dist_k_15</th>\n",
       "      <th>healthcare_std_dist_k_15</th>\n",
       "      <th>healthcare_mean_dist_k_21</th>\n",
       "      <th>healthcare_max_dist_k_21</th>\n",
       "      <th>healthcare_std_dist_k_21</th>\n",
       "      <th>healthcare_min</th>\n",
       "    </tr>\n",
       "  </thead>\n",
       "  <tbody>\n",
       "    <tr>\n",
       "      <th>0</th>\n",
       "      <td>0</td>\n",
       "      <td>56.852292</td>\n",
       "      <td>0</td>\n",
       "      <td>1</td>\n",
       "      <td>2</td>\n",
       "      <td>2</td>\n",
       "      <td>2</td>\n",
       "      <td>0.006777</td>\n",
       "      <td>0.015403</td>\n",
       "      <td>0.006120</td>\n",
       "      <td>...</td>\n",
       "      <td>0.220350</td>\n",
       "      <td>0.273384</td>\n",
       "      <td>0.041592</td>\n",
       "      <td>0.238714</td>\n",
       "      <td>0.277386</td>\n",
       "      <td>0.042758</td>\n",
       "      <td>0.275959</td>\n",
       "      <td>0.399982</td>\n",
       "      <td>0.072478</td>\n",
       "      <td>0.141260</td>\n",
       "    </tr>\n",
       "    <tr>\n",
       "      <th>1</th>\n",
       "      <td>1</td>\n",
       "      <td>56.511876</td>\n",
       "      <td>0</td>\n",
       "      <td>0</td>\n",
       "      <td>0</td>\n",
       "      <td>0</td>\n",
       "      <td>2</td>\n",
       "      <td>0.008668</td>\n",
       "      <td>0.010560</td>\n",
       "      <td>0.001347</td>\n",
       "      <td>...</td>\n",
       "      <td>0.217375</td>\n",
       "      <td>0.268797</td>\n",
       "      <td>0.040150</td>\n",
       "      <td>0.235177</td>\n",
       "      <td>0.272606</td>\n",
       "      <td>0.041341</td>\n",
       "      <td>0.272318</td>\n",
       "      <td>0.394435</td>\n",
       "      <td>0.071789</td>\n",
       "      <td>0.148631</td>\n",
       "    </tr>\n",
       "    <tr>\n",
       "      <th>2</th>\n",
       "      <td>2</td>\n",
       "      <td>56.173822</td>\n",
       "      <td>0</td>\n",
       "      <td>0</td>\n",
       "      <td>0</td>\n",
       "      <td>0</td>\n",
       "      <td>0</td>\n",
       "      <td>0.013769</td>\n",
       "      <td>0.015696</td>\n",
       "      <td>0.002323</td>\n",
       "      <td>...</td>\n",
       "      <td>0.214564</td>\n",
       "      <td>0.264367</td>\n",
       "      <td>0.039119</td>\n",
       "      <td>0.231802</td>\n",
       "      <td>0.267973</td>\n",
       "      <td>0.040187</td>\n",
       "      <td>0.268821</td>\n",
       "      <td>0.388979</td>\n",
       "      <td>0.071238</td>\n",
       "      <td>0.156053</td>\n",
       "    </tr>\n",
       "    <tr>\n",
       "      <th>3</th>\n",
       "      <td>3</td>\n",
       "      <td>55.838172</td>\n",
       "      <td>0</td>\n",
       "      <td>0</td>\n",
       "      <td>0</td>\n",
       "      <td>0</td>\n",
       "      <td>0</td>\n",
       "      <td>0.020577</td>\n",
       "      <td>0.023549</td>\n",
       "      <td>0.003754</td>\n",
       "      <td>...</td>\n",
       "      <td>0.211924</td>\n",
       "      <td>0.260101</td>\n",
       "      <td>0.038536</td>\n",
       "      <td>0.228594</td>\n",
       "      <td>0.263495</td>\n",
       "      <td>0.039321</td>\n",
       "      <td>0.265335</td>\n",
       "      <td>0.385454</td>\n",
       "      <td>0.070592</td>\n",
       "      <td>0.163519</td>\n",
       "    </tr>\n",
       "    <tr>\n",
       "      <th>4</th>\n",
       "      <td>4</td>\n",
       "      <td>55.504970</td>\n",
       "      <td>0</td>\n",
       "      <td>0</td>\n",
       "      <td>0</td>\n",
       "      <td>0</td>\n",
       "      <td>0</td>\n",
       "      <td>0.026699</td>\n",
       "      <td>0.030437</td>\n",
       "      <td>0.003545</td>\n",
       "      <td>...</td>\n",
       "      <td>0.209461</td>\n",
       "      <td>0.256008</td>\n",
       "      <td>0.038421</td>\n",
       "      <td>0.225560</td>\n",
       "      <td>0.259181</td>\n",
       "      <td>0.038767</td>\n",
       "      <td>0.261751</td>\n",
       "      <td>0.380664</td>\n",
       "      <td>0.069630</td>\n",
       "      <td>0.158611</td>\n",
       "    </tr>\n",
       "  </tbody>\n",
       "</table>\n",
       "<p>5 rows × 275 columns</p>\n",
       "</div>"
      ],
      "text/plain": [
       "   zone_id  distance_to_kremlin  tagged_points_in_0.001  \\\n",
       "0        0            56.852292                       0   \n",
       "1        1            56.511876                       0   \n",
       "2        2            56.173822                       0   \n",
       "3        3            55.838172                       0   \n",
       "4        4            55.504970                       0   \n",
       "\n",
       "   tagged_points_in_0.003  tagged_points_in_0.005  tagged_points_in_0.007  \\\n",
       "0                       1                       2                       2   \n",
       "1                       0                       0                       0   \n",
       "2                       0                       0                       0   \n",
       "3                       0                       0                       0   \n",
       "4                       0                       0                       0   \n",
       "\n",
       "   tagged_points_in_0.01  tagged_mean_dist_k_3  tagged_max_dist_k_3  \\\n",
       "0                      2              0.006777             0.015403   \n",
       "1                      2              0.008668             0.010560   \n",
       "2                      0              0.013769             0.015696   \n",
       "3                      0              0.020577             0.023549   \n",
       "4                      0              0.026699             0.030437   \n",
       "\n",
       "   tagged_std_dist_k_3       ...        healthcare_mean_dist_k_10  \\\n",
       "0             0.006120       ...                         0.220350   \n",
       "1             0.001347       ...                         0.217375   \n",
       "2             0.002323       ...                         0.214564   \n",
       "3             0.003754       ...                         0.211924   \n",
       "4             0.003545       ...                         0.209461   \n",
       "\n",
       "   healthcare_max_dist_k_10  healthcare_std_dist_k_10  \\\n",
       "0                  0.273384                  0.041592   \n",
       "1                  0.268797                  0.040150   \n",
       "2                  0.264367                  0.039119   \n",
       "3                  0.260101                  0.038536   \n",
       "4                  0.256008                  0.038421   \n",
       "\n",
       "   healthcare_mean_dist_k_15  healthcare_max_dist_k_15  \\\n",
       "0                   0.238714                  0.277386   \n",
       "1                   0.235177                  0.272606   \n",
       "2                   0.231802                  0.267973   \n",
       "3                   0.228594                  0.263495   \n",
       "4                   0.225560                  0.259181   \n",
       "\n",
       "   healthcare_std_dist_k_15  healthcare_mean_dist_k_21  \\\n",
       "0                  0.042758                   0.275959   \n",
       "1                  0.041341                   0.272318   \n",
       "2                  0.040187                   0.268821   \n",
       "3                  0.039321                   0.265335   \n",
       "4                  0.038767                   0.261751   \n",
       "\n",
       "   healthcare_max_dist_k_21  healthcare_std_dist_k_21  healthcare_min  \n",
       "0                  0.399982                  0.072478        0.141260  \n",
       "1                  0.394435                  0.071789        0.148631  \n",
       "2                  0.388979                  0.071238        0.156053  \n",
       "3                  0.385454                  0.070592        0.163519  \n",
       "4                  0.380664                  0.069630        0.158611  \n",
       "\n",
       "[5 rows x 275 columns]"
      ]
     },
     "execution_count": 16,
     "metadata": {},
     "output_type": "execute_result"
    }
   ],
   "source": [
    "df_features = pd.DataFrame(df_features, index=df_zones.index).reset_index()\n",
    "df_features.head()"
   ]
  },
  {
   "cell_type": "markdown",
   "metadata": {},
   "source": [
    "Некоторые значения статистики содержат пропущенные значения. Заменим их на нули. "
   ]
  },
  {
   "cell_type": "code",
   "execution_count": 17,
   "metadata": {},
   "outputs": [],
   "source": [
    "fiers = fiers.fillna(0)\n",
    "crimes = crimes.fillna(0)\n",
    "accidents = accidents.fillna(0)"
   ]
  },
  {
   "cell_type": "markdown",
   "metadata": {},
   "source": [
    "При добавлении статистики по происшествиям можно использовать значения ближайшего района (n_neighbors=1) или получить взвешенную статистику пропорционально расстоянию между центром квадрата и центром района или АО (n_neighbors=var). В любом случае этот гиперпараметр можно и нужно тюнить.  "
   ]
  },
  {
   "cell_type": "code",
   "execution_count": 18,
   "metadata": {},
   "outputs": [
    {
     "name": "stdout",
     "output_type": "stream",
     "text": [
      "fiers2017\n",
      "fiers2016\n",
      "deaths2017\n",
      "deaths2016\n",
      "injuries2017\n",
      "injuries2016\n",
      "saved2017\n",
      "saved2016\n",
      "evacuated2017\n",
      "evacuated2016\n",
      "damage2017\n",
      "damage2016\n",
      "zagoraniya2017\n",
      "zagoraniya2016\n",
      "fiers2017_100k\n",
      "fiers2016_100k\n",
      "deaths2017_100k\n",
      "deaths2016_100k\n",
      "injuries2017_100k\n",
      "injuries2016_100k\n",
      "population2017\n",
      "population2016\n",
      "crimes_woman\n",
      "crimes_man\n",
      "crimes_tot\n",
      "crimes_woman_spec\n",
      "crimes_man_spec\n",
      "crimes_tot_spec\n",
      "Погибло\n",
      "Ранено\n",
      "Кол-во ТС\n",
      "Кол-во участников\n"
     ]
    }
   ],
   "source": [
    "df_features = pd.merge(df_features, df_zones.reset_index()[['zone_id','lat_c','lon_c']], how='left', on='zone_id')\n",
    "\n",
    "# добавляем статистику по пожарам\n",
    "for i in list(fiers.columns[4:]):\n",
    "    print(i)\n",
    "    knn = KNeighborsRegressor(n_neighbors=15, weights='distance')\n",
    "    knn.fit(fiers[['lat_c', 'lon_c']], fiers[i])\n",
    "    y_hat = knn.predict(df_features[['lat_c', 'lon_c']])\n",
    "    df_features['fiers_'+str(i)] = y_hat\n",
    "\n",
    "# добавляем статистику по преступлениям \n",
    "for i in ['crimes_woman','crimes_man','crimes_tot','crimes_woman_spec','crimes_man_spec','crimes_tot_spec']:\n",
    "    print(i)\n",
    "    knn = KNeighborsRegressor(n_neighbors=5, weights='distance')\n",
    "    knn.fit(crimes[['lat_c', 'lon_c']], crimes[i])\n",
    "    y_hat = knn.predict(df_features[['lat_c', 'lon_c']])\n",
    "    df_features['crimes_'+str(i)] = y_hat\n",
    "    \n",
    "# добавляем статистику по дтп \n",
    "for i in ['Погибло','Ранено','Кол-во ТС','Кол-во участников']:\n",
    "    print(i)\n",
    "    knn = KNeighborsRegressor(n_neighbors=15, weights='distance')\n",
    "    knn.fit(accidents[['lat_c', 'lon_c']], accidents[i])\n",
    "    y_hat = knn.predict(df_features[['lat_c', 'lon_c']])\n",
    "    df_features['accidents_'+str(i)] = y_hat"
   ]
  },
  {
   "cell_type": "code",
   "execution_count": 19,
   "metadata": {
    "scrolled": true
   },
   "outputs": [
    {
     "name": "stdout",
     "output_type": "stream",
     "text": [
      "Shape: (22172, 306)\n"
     ]
    }
   ],
   "source": [
    "df_features = df_features.set_index('zone_id')\n",
    "df_features = df_features.drop(['lat_c','lon_c'],axis=1)\n",
    "print('Shape:', df_features.shape)"
   ]
  },
  {
   "cell_type": "markdown",
   "metadata": {},
   "source": [
    "# Тренируем модель "
   ]
  },
  {
   "cell_type": "markdown",
   "metadata": {},
   "source": [
    "В качестве валидации будем использовать GroupKFold. Идея такого полхода валидации состоит в том, что одна группа (в нашем случае - один район) будет принадлежать только одному фолду. Такое разбите максимально близко к разбиению в данной задаче - на западную и восточную части города. "
   ]
  },
  {
   "cell_type": "code",
   "execution_count": 20,
   "metadata": {},
   "outputs": [],
   "source": [
    "gkf = GroupKFold(4)\n",
    "df_zones_train = df_zones.query('is_test == 0 & is_target == 1')\n",
    "\n",
    "le = LabelEncoder()\n",
    "fiers['area_labels'] = le.fit_transform(fiers['area'])\n",
    "\n",
    "# определяем к какому району относится квадрат по минимальному расстоянию между центрами квадрата и района \n",
    "knn_clas = KNeighborsClassifier(n_neighbors=1)\n",
    "knn_clas.fit(fiers[['lat_c','lon_c']], fiers['area_labels'])\n",
    "area_id = knn_clas.predict(df_zones_train[['lat_c','lon_c']])"
   ]
  },
  {
   "cell_type": "markdown",
   "metadata": {},
   "source": [
    "Логика обучения модели такова: по валидации выбираем оптимальное количество деревьев, затем делаем крос-вал предикт для оценки метрики. Поскольку данных не много, мы можем позволить себе такую вольность. \n",
    "\n",
    "Обучаем отдельную модель для каждого дня. "
   ]
  },
  {
   "cell_type": "code",
   "execution_count": 21,
   "metadata": {},
   "outputs": [
    {
     "name": "stdout",
     "output_type": "stream",
     "text": [
      "Day: 0 Score:  0.6586879357924876\n",
      "Day: 1 Score:  0.6614241010042836\n",
      "Day: 2 Score:  0.6624649568106205\n",
      "Day: 3 Score:  0.6652046874248476\n",
      "Day: 4 Score:  0.6661385223225323\n",
      "Day: 5 Score:  0.6524451661833042\n",
      "Day: 6 Score:  0.644505780863573\n",
      "Total score: 0.6586958786288071\n",
      "Wall time: 5min 17s\n"
     ]
    }
   ],
   "source": [
    "%%time\n",
    "warnings.filterwarnings(\"ignore\")\n",
    "\n",
    "params = {\n",
    "    'objective':'tweedie',\n",
    "    'learning_rate': 0.005, \n",
    "    'random_state': 163000,\n",
    "    'subsample': 0.75,\n",
    "    'reg_lambda': 1,\n",
    "    }\n",
    "\n",
    "scores = []\n",
    "opt_rounds = []\n",
    "for day in range(7):\n",
    "    # подбираем оптимальное количество деревьев для обучения \n",
    "    X_train = df_features.loc[df_zones_train.index, :]\n",
    "    y_train = np.log1p(df_zones.loc[df_zones_train.index, 'calls_wd'+str(day)])\n",
    "    train_data = lgb.Dataset(X_train, label=y_train)\n",
    "    hist = lgb.cv(params, train_data, verbose_eval=None,\n",
    "                  early_stopping_rounds=150, num_boost_round=424242, \n",
    "                  #nfold=5, stratified=False\n",
    "                  folds = gkf.split(df_zones_train,df_zones_train,area_id)\n",
    "                 ) \n",
    "    \n",
    "    opt_round = np.argmin(hist['tweedie-mean'])\n",
    "    opt_rounds.append(opt_round)\n",
    "    params['n_estimators'] = opt_round\n",
    "    gbm = lgb.LGBMRegressor(**params)\n",
    "    \n",
    "    # вычисляем значение метрики \n",
    "    y_cros_val = cross_val_predict(gbm, X_train, y_train, \n",
    "                                   #cv = 5, \n",
    "                                   cv=gkf.split(df_zones_train,df_zones_train,area_id),\n",
    "                                   n_jobs=-1\n",
    "                                  )\n",
    "    y_cros_val = np.exp(y_cros_val) - 1\n",
    "    score = kendalltau(y_train, y_cros_val).correlation\n",
    "    scores.append(score)\n",
    "    print('Day:', str(day), 'Score: ', score)\n",
    "    \n",
    "print('Total score:', np.mean(scores))"
   ]
  },
  {
   "cell_type": "markdown",
   "metadata": {},
   "source": [
    "## Делаем прогноз "
   ]
  },
  {
   "cell_type": "code",
   "execution_count": 22,
   "metadata": {},
   "outputs": [],
   "source": [
    "idx_test = df_zones.query('is_test == 1').index"
   ]
  },
  {
   "cell_type": "code",
   "execution_count": 23,
   "metadata": {},
   "outputs": [
    {
     "name": "stdout",
     "output_type": "stream",
     "text": [
      "Day: 0\n",
      "Day: 1\n",
      "Day: 2\n",
      "Day: 3\n",
      "Day: 4\n",
      "Day: 5\n",
      "Day: 6\n",
      "Wall time: 44.8 s\n"
     ]
    }
   ],
   "source": [
    "%%time\n",
    "predictions = []\n",
    "for day in range(7):\n",
    "    print('Day:', str(day))\n",
    "    \n",
    "    # учим \n",
    "    X_train = df_features.loc[df_zones_train.index, :]\n",
    "    y_train = np.log1p(df_zones.loc[df_zones_train.index, 'calls_wd'+str(day)])\n",
    "    train_data = lgb.Dataset(X_train, label=y_train)\n",
    "    X_test  = df_features.loc[idx_test, :]\n",
    "    \n",
    "    # предсказываем \n",
    "    gbm = lgb.train(params, train_data, num_boost_round=opt_rounds[day])\n",
    "    \n",
    "    # записываем \n",
    "    y_hat = gbm.predict(X_test)\n",
    "    y_hat = np.exp(y_hat) - 1\n",
    "    predictions.append(y_hat)"
   ]
  },
  {
   "cell_type": "code",
   "execution_count": 24,
   "metadata": {},
   "outputs": [
    {
     "data": {
      "text/html": [
       "<div>\n",
       "<style scoped>\n",
       "    .dataframe tbody tr th:only-of-type {\n",
       "        vertical-align: middle;\n",
       "    }\n",
       "\n",
       "    .dataframe tbody tr th {\n",
       "        vertical-align: top;\n",
       "    }\n",
       "\n",
       "    .dataframe thead th {\n",
       "        text-align: right;\n",
       "    }\n",
       "</style>\n",
       "<table border=\"1\" class=\"dataframe\">\n",
       "  <thead>\n",
       "    <tr style=\"text-align: right;\">\n",
       "      <th></th>\n",
       "      <th>zone_id</th>\n",
       "      <th>calls_wd0</th>\n",
       "      <th>calls_wd1</th>\n",
       "      <th>calls_wd2</th>\n",
       "      <th>calls_wd3</th>\n",
       "      <th>calls_wd4</th>\n",
       "      <th>calls_wd5</th>\n",
       "      <th>calls_wd6</th>\n",
       "    </tr>\n",
       "  </thead>\n",
       "  <tbody>\n",
       "    <tr>\n",
       "      <th>0</th>\n",
       "      <td>79</td>\n",
       "      <td>0.040713</td>\n",
       "      <td>0.041571</td>\n",
       "      <td>0.020598</td>\n",
       "      <td>0.041223</td>\n",
       "      <td>0.038875</td>\n",
       "      <td>0.034039</td>\n",
       "      <td>0.054431</td>\n",
       "    </tr>\n",
       "    <tr>\n",
       "      <th>1</th>\n",
       "      <td>80</td>\n",
       "      <td>0.029717</td>\n",
       "      <td>0.022987</td>\n",
       "      <td>0.017550</td>\n",
       "      <td>0.034124</td>\n",
       "      <td>0.027219</td>\n",
       "      <td>0.026874</td>\n",
       "      <td>0.039640</td>\n",
       "    </tr>\n",
       "    <tr>\n",
       "      <th>2</th>\n",
       "      <td>81</td>\n",
       "      <td>0.029717</td>\n",
       "      <td>0.022987</td>\n",
       "      <td>0.017152</td>\n",
       "      <td>0.024386</td>\n",
       "      <td>0.027219</td>\n",
       "      <td>0.028093</td>\n",
       "      <td>0.039640</td>\n",
       "    </tr>\n",
       "    <tr>\n",
       "      <th>3</th>\n",
       "      <td>82</td>\n",
       "      <td>0.029786</td>\n",
       "      <td>0.022987</td>\n",
       "      <td>0.017185</td>\n",
       "      <td>0.023237</td>\n",
       "      <td>0.027518</td>\n",
       "      <td>0.026656</td>\n",
       "      <td>0.038370</td>\n",
       "    </tr>\n",
       "    <tr>\n",
       "      <th>4</th>\n",
       "      <td>83</td>\n",
       "      <td>0.030158</td>\n",
       "      <td>0.024303</td>\n",
       "      <td>0.017276</td>\n",
       "      <td>0.021832</td>\n",
       "      <td>0.026090</td>\n",
       "      <td>0.026723</td>\n",
       "      <td>0.039135</td>\n",
       "    </tr>\n",
       "  </tbody>\n",
       "</table>\n",
       "</div>"
      ],
      "text/plain": [
       "   zone_id  calls_wd0  calls_wd1  calls_wd2  calls_wd3  calls_wd4  calls_wd5  \\\n",
       "0       79   0.040713   0.041571   0.020598   0.041223   0.038875   0.034039   \n",
       "1       80   0.029717   0.022987   0.017550   0.034124   0.027219   0.026874   \n",
       "2       81   0.029717   0.022987   0.017152   0.024386   0.027219   0.028093   \n",
       "3       82   0.029786   0.022987   0.017185   0.023237   0.027518   0.026656   \n",
       "4       83   0.030158   0.024303   0.017276   0.021832   0.026090   0.026723   \n",
       "\n",
       "   calls_wd6  \n",
       "0   0.054431  \n",
       "1   0.039640  \n",
       "2   0.039640  \n",
       "3   0.038370  \n",
       "4   0.039135  "
      ]
     },
     "execution_count": 24,
     "metadata": {},
     "output_type": "execute_result"
    }
   ],
   "source": [
    "target_columns = ['calls_wd{}'.format(d) for d in range(7)]\n",
    "df_test_predictions = pd.DataFrame(np.transpose(np.array(predictions)))\n",
    "df_test_predictions.columns = target_columns\n",
    "df_test_predictions['zone_id'] = idx_test\n",
    "df_test_predictions = df_test_predictions[['zone_id']+target_columns]\n",
    "\n",
    "df_test_predictions.to_csv('./submissions/sub1.csv')\n",
    "df_test_predictions.head()\n",
    "\n",
    "# score validation: 0.6586958786288071\n",
    "# score lb: 0.6505596991693914"
   ]
  },
  {
   "cell_type": "markdown",
   "metadata": {},
   "source": [
    "Напоследок посмотрим на важность фич. Видно, что фичи полученные из новых дата сетов находятся в топе по важности. "
   ]
  },
  {
   "cell_type": "code",
   "execution_count": 25,
   "metadata": {
    "scrolled": false
   },
   "outputs": [
    {
     "data": {
      "text/plain": [
       "<matplotlib.axes._subplots.AxesSubplot at 0x18ab459c438>"
      ]
     },
     "execution_count": 25,
     "metadata": {},
     "output_type": "execute_result"
    },
    {
     "data": {
      "image/png": "[encoded data removed]",
      "text/plain": [
       "<Figure size 864x576 with 1 Axes>"
      ]
     },
     "metadata": {},
     "output_type": "display_data"
    }
   ],
   "source": [
    "lgb.plot_importance(gbm, figsize=(12,8), importance_type='gain', max_num_features=30)"
   ]
  },
  {
   "cell_type": "markdown",
   "metadata": {},
   "source": [
    "## Что можно улучшить "
   ]
  },
  {
   "cell_type": "markdown",
   "metadata": {},
   "source": [
    "- Добавить статистики по ближайшим районам как фичи. То есть использовать не усредненные статистики (knn), а статистики ближайшего района, второго по близости итп. \n",
    "- Кластеризовать районы по некому признаку и использовать как категориальную фичу. \n",
    "- Попробовать различные трансформации целевой переменной: оставить как есть, логарифмирование, степенные преобразования, [Бокса-Кокса](http://www.machinelearning.ru/wiki/index.php?title=%D0%9C%D0%B5%D1%82%D0%BE%D0%B4_%D0%91%D0%BE%D0%BA%D1%81%D0%B0-%D0%9A%D0%BE%D0%BA%D1%81%D0%B0) \n",
    "- Попробовать различные objective function в lighgbm (tweedie, poisson). \n",
    "- [Feature selection](https://github.com/scikit-learn-contrib/boruta_py) & [hyper-parameters optimization](https://github.com/hyperopt/hyperopt)\n"
   ]
  }
 ],
 "metadata": {
  "kernelspec": {
   "display_name": "Python 3",
   "language": "python",
   "name": "python3"
  },
  "language_info": {
   "codemirror_mode": {
    "name": "ipython",
    "version": 3
   },
   "file_extension": ".py",
   "mimetype": "text/x-python",
   "name": "python",
   "nbconvert_exporter": "python",
   "pygments_lexer": "ipython3",
   "version": "3.5.4"
  }
 },
 "nbformat": 4,
 "nbformat_minor": 2
}
